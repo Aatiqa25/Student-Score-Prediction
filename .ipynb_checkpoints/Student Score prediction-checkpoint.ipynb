{
 "cells": [
  {
   "cell_type": "code",
   "execution_count": null,
   "id": "279f7cbc",
   "metadata": {},
   "outputs": [],
   "source": [
    "# 1. import required libraries\n",
    "# importing essential libraries for data analysis, visualization and machine learning\n"
   ]
  },
  {
   "cell_type": "code",
   "execution_count": null,
   "id": "63e2613f",
   "metadata": {},
   "outputs": [],
   "source": [
    "import pandas as pd\n",
    "import numpy as np\n",
    "import matplotlib.pyplot as plt\n",
    "import seaborn as sns\n",
    "from sklearn.model_selection import train_test_split\n",
    "from sklearn.linear_model import LinearRegression\n",
    "from sklearn.preprocessing import PolynomialFeatures\n",
    "from sklearn.metrics import mean_squared_error, r2_score, mean_absolute_error\n",
    "import joblib\n",
    "import warnings\n",
    "warnings.filterwarnings('ignore')\n"
   ]
  },
  {
   "cell_type": "code",
   "execution_count": null,
   "id": "5edb6786",
   "metadata": {},
   "outputs": [],
   "source": [
    "# 2. load dataset\n",
    "# loading student performance data from csv file\n"
   ]
  },
  {
   "cell_type": "code",
   "execution_count": null,
   "id": "d6b45028",
   "metadata": {},
   "outputs": [],
   "source": [
    "df = pd.read_csv('StudentPerformanceFactors.csv')\n",
    "\n",
    "print(f\"dataset shape: {df.shape}\")\n",
    "print(f\"columns: {list(df.columns)}\")\n",
    "df.head()\n"
   ]
  },
  {
   "cell_type": "code",
   "execution_count": null,
   "id": "22722c0d",
   "metadata": {},
   "outputs": [],
   "source": [
    "# 3. data cleaning and exploration\n",
    "# checking for missing values, data types and basic statistics\n"
   ]
  },
  {
   "cell_type": "code",
   "execution_count": null,
   "id": "e8cd7240",
   "metadata": {},
   "outputs": [],
   "source": [
    "print(\"dataset info:\")\n",
    "print(df.info())\n",
    "print(\"\\nmissing values:\")\n",
    "print(df.isnull().sum())\n",
    "print(\"\\nstatistical summary:\")\n",
    "print(df.describe())\n",
    "print(\"\\nunique values in categorical columns:\")\n",
    "categorical_cols = df.select_dtypes(include=['object']).columns\n",
    "for col in categorical_cols:\n",
    "    print(f\"{col}: {df[col].unique()}\")\n"
   ]
  },
  {
   "cell_type": "code",
   "execution_count": null,
   "id": "aedd696d",
   "metadata": {},
   "outputs": [],
   "source": [
    "# 4. data visualization\n",
    "# creating visualizations to understand data distribution and relationships\n"
   ]
  },
  {
   "cell_type": "code",
   "execution_count": null,
   "id": "9b710b7d",
   "metadata": {},
   "outputs": [],
   "source": [
    "plt.figure(figsize=(15, 10))\n",
    "\n",
    "plt.subplot(2, 3, 1)\n",
    "plt.hist(df['Exam_Score'], bins=30, alpha=0.7, color='skyblue')\n",
    "plt.title('exam score distribution')\n",
    "plt.xlabel('exam score')\n",
    "plt.ylabel('frequency')\n",
    "\n",
    "plt.subplot(2, 3, 2)\n",
    "plt.scatter(df['Hours_Studied'], df['Exam_Score'], alpha=0.6, color='lightcoral')\n",
    "plt.title('hours studied vs exam score')\n",
    "plt.xlabel('hours studied')\n",
    "plt.ylabel('exam score')\n",
    "\n",
    "plt.subplot(2, 3, 3)\n",
    "plt.scatter(df['Attendance'], df['Exam_Score'], alpha=0.6, color='lightgreen')\n",
    "plt.title('attendance vs exam score')\n",
    "plt.xlabel('attendance')\n",
    "plt.ylabel('exam score')\n",
    "\n",
    "plt.subplot(2, 3, 4)\n",
    "plt.scatter(df['Previous_Scores'], df['Exam_Score'], alpha=0.6, color='gold')\n",
    "plt.title('previous scores vs exam score')\n",
    "plt.xlabel('previous scores')\n",
    "plt.ylabel('exam score')\n",
    "\n",
    "plt.subplot(2, 3, 5)\n",
    "plt.scatter(df['Sleep_Hours'], df['Exam_Score'], alpha=0.6, color='plum')\n",
    "plt.title('sleep hours vs exam score')\n",
    "plt.xlabel('sleep hours')\n",
    "plt.ylabel('exam score')\n",
    "\n",
    "plt.subplot(2, 3, 6)\n",
    "numeric_df = df.select_dtypes(include=[np.number])\n",
    "correlation_matrix = numeric_df.corr()\n",
    "sns.heatmap(correlation_matrix, annot=True, cmap='coolwarm', center=0, fmt='.2f')\n",
    "plt.title('correlation matrix')\n",
    "\n",
    "plt.tight_layout()\n",
    "plt.show()\n"
   ]
  },
  {
   "cell_type": "code",
   "execution_count": null,
   "id": "c2be245b",
   "metadata": {},
   "outputs": [],
   "source": [
    "# 5. data preprocessing and encoding\n",
    "# encoding categorical variables and preparing features for modeling\n"
   ]
  },
  {
   "cell_type": "code",
   "execution_count": null,
   "id": "9f58e8a9",
   "metadata": {},
   "outputs": [],
   "source": [
    "from sklearn.preprocessing import LabelEncoder\n",
    "\n",
    "df_processed = df.copy()\n",
    "\n",
    "categorical_columns = ['Parental_Involvement', 'Access_to_Resources', 'Extracurricular_Activities',\n",
    "                      'Motivation_Level', 'Internet_Access', 'Family_Income', 'Teacher_Quality',\n",
    "                      'School_Type', 'Peer_Influence', 'Learning_Disabilities', \n",
    "                      'Parental_Education_Level', 'Distance_from_Home', 'Gender']\n",
    "\n",
    "encoders = {}\n",
    "for col in categorical_columns:\n",
    "    le = LabelEncoder()\n",
    "    df_processed[f'{col}_encoded'] = le.fit_transform(df_processed[col])\n",
    "    encoders[col] = le\n",
    "\n",
    "features = ['Hours_Studied', 'Attendance', 'Parental_Involvement_encoded', 'Access_to_Resources_encoded',\n",
    "           'Extracurricular_Activities_encoded', 'Sleep_Hours', 'Previous_Scores', 'Motivation_Level_encoded',\n",
    "           'Internet_Access_encoded', 'Tutoring_Sessions', 'Family_Income_encoded', 'Teacher_Quality_encoded',\n",
    "           'School_Type_encoded', 'Peer_Influence_encoded', 'Physical_Activity', 'Learning_Disabilities_encoded',\n",
    "           'Parental_Education_Level_encoded', 'Distance_from_Home_encoded', 'Gender_encoded']\n",
    "\n",
    "x = df_processed[features]\n",
    "y = df_processed['Exam_Score']\n",
    "\n",
    "print(f\"features shape: {x.shape}\")\n",
    "print(f\"target shape: {y.shape}\")\n",
    "print(f\"feature columns: {list(x.columns)}\")\n"
   ]
  },
  {
   "cell_type": "code",
   "execution_count": null,
   "id": "772809de",
   "metadata": {},
   "outputs": [],
   "source": [
    "# 6. split dataset\n",
    "# dividing data into training and testing sets for model evaluation\n"
   ]
  },
  {
   "cell_type": "code",
   "execution_count": null,
   "id": "0a62995d",
   "metadata": {},
   "outputs": [],
   "source": [
    "x_train, x_test, y_train, y_test = train_test_split(x, y, test_size=0.2, random_state=42)\n",
    "\n",
    "print(f\"training set shape: {x_train.shape}\")\n",
    "print(f\"testing set shape: {x_test.shape}\")\n",
    "print(f\"training target shape: {y_train.shape}\")\n",
    "print(f\"testing target shape: {y_test.shape}\")\n"
   ]
  },
  {
   "cell_type": "code",
   "execution_count": null,
   "id": "0b68db63",
   "metadata": {},
   "outputs": [],
   "source": [
    "# 7. train linear regression model\n",
    "# creating and training a linear regression model to predict exam scores\n"
   ]
  },
  {
   "cell_type": "code",
   "execution_count": null,
   "id": "ba541180",
   "metadata": {},
   "outputs": [],
   "source": [
    "linear_model = LinearRegression()\n",
    "linear_model.fit(x_train, y_train)\n",
    "\n",
    "y_pred_linear = linear_model.predict(x_test)\n",
    "\n",
    "print(\"linear regression model trained successfully\")\n",
    "print(f\"model coefficients shape: {linear_model.coef_.shape}\")\n",
    "print(f\"model intercept: {linear_model.intercept_:.2f}\")\n"
   ]
  },
  {
   "cell_type": "code",
   "execution_count": null,
   "id": "1e5dee9d",
   "metadata": {},
   "outputs": [],
   "source": [
    "# 8. evaluate linear regression model\n",
    "# calculating performance metrics for the linear regression model\n"
   ]
  },
  {
   "cell_type": "code",
   "execution_count": null,
   "id": "d5eb2b78",
   "metadata": {},
   "outputs": [],
   "source": [
    "mse_linear = mean_squared_error(y_test, y_pred_linear)\n",
    "r2_linear = r2_score(y_test, y_pred_linear)\n",
    "mae_linear = mean_absolute_error(y_test, y_pred_linear)\n",
    "rmse_linear = np.sqrt(mse_linear)\n",
    "\n",
    "print(\"linear regression performance:\")\n",
    "print(f\"mean squared error: {mse_linear:.2f}\")\n",
    "print(f\"root mean squared error: {rmse_linear:.2f}\")\n",
    "print(f\"mean absolute error: {mae_linear:.2f}\")\n",
    "print(f\"r-squared score: {r2_linear:.4f}\")\n"
   ]
  },
  {
   "cell_type": "code",
   "execution_count": null,
   "id": "9486ab6d",
   "metadata": {},
   "outputs": [],
   "source": [
    "# 9. train polynomial regression model\n",
    "# creating polynomial features and training polynomial regression for comparison\n"
   ]
  },
  {
   "cell_type": "code",
   "execution_count": null,
   "id": "7d6dbe3d",
   "metadata": {},
   "outputs": [],
   "source": [
    "poly_features = PolynomialFeatures(degree=2, include_bias=False)\n",
    "x_train_poly = poly_features.fit_transform(x_train)\n",
    "x_test_poly = poly_features.transform(x_test)\n",
    "\n",
    "poly_model = LinearRegression()\n",
    "poly_model.fit(x_train_poly, y_train)\n",
    "\n",
    "y_pred_poly = poly_model.predict(x_test_poly)\n",
    "\n",
    "print(\"polynomial regression model trained successfully\")\n",
    "print(f\"polynomial features shape: {x_train_poly.shape}\")\n",
    "print(f\"original features: {x_train.shape[1]}, polynomial features: {x_train_poly.shape[1]}\")\n"
   ]
  },
  {
   "cell_type": "code",
   "execution_count": null,
   "id": "0e4fe241",
   "metadata": {},
   "outputs": [],
   "source": [
    "# 10. evaluate polynomial regression model\n",
    "# calculating performance metrics for polynomial regression and comparing with linear model\n"
   ]
  },
  {
   "cell_type": "code",
   "execution_count": null,
   "id": "1ce2cd41",
   "metadata": {},
   "outputs": [],
   "source": [
    "mse_poly = mean_squared_error(y_test, y_pred_poly)\n",
    "r2_poly = r2_score(y_test, y_pred_poly)\n",
    "mae_poly = mean_absolute_error(y_test, y_pred_poly)\n",
    "rmse_poly = np.sqrt(mse_poly)\n",
    "\n",
    "print(\"polynomial regression performance:\")\n",
    "print(f\"mean squared error: {mse_poly:.2f}\")\n",
    "print(f\"root mean squared error: {rmse_poly:.2f}\")\n",
    "print(f\"mean absolute error: {mae_poly:.2f}\")\n",
    "print(f\"r-squared score: {r2_poly:.4f}\")\n",
    "\n",
    "print(\"\\nmodel comparison:\")\n",
    "print(f\"linear regression r2: {r2_linear:.4f}\")\n",
    "print(f\"polynomial regression r2: {r2_poly:.4f}\")\n",
    "print(f\"improvement: {((r2_poly - r2_linear) / r2_linear * 100):.2f}%\")\n"
   ]
  },
  {
   "cell_type": "code",
   "execution_count": null,
   "id": "9ed54fd0",
   "metadata": {},
   "outputs": [],
   "source": [
    "# 11. visualize predictions\n",
    "# creating plots to compare actual vs predicted values for both models\n"
   ]
  },
  {
   "cell_type": "code",
   "execution_count": null,
   "id": "9ab86738",
   "metadata": {},
   "outputs": [],
   "source": [
    "plt.figure(figsize=(15, 5))\n",
    "\n",
    "plt.subplot(1, 3, 1)\n",
    "plt.scatter(y_test, y_pred_linear, alpha=0.6, color='blue')\n",
    "plt.plot([y_test.min(), y_test.max()], [y_test.min(), y_test.max()], 'r--', lw=2)\n",
    "plt.xlabel('actual scores')\n",
    "plt.ylabel('predicted scores')\n",
    "plt.title(f'linear regression\\nr2 = {r2_linear:.4f}')\n",
    "\n",
    "plt.subplot(1, 3, 2)\n",
    "plt.scatter(y_test, y_pred_poly, alpha=0.6, color='green')\n",
    "plt.plot([y_test.min(), y_test.max()], [y_test.min(), y_test.max()], 'r--', lw=2)\n",
    "plt.xlabel('actual scores')\n",
    "plt.ylabel('predicted scores')\n",
    "plt.title(f'polynomial regression\\nr2 = {r2_poly:.4f}')\n",
    "\n",
    "plt.subplot(1, 3, 3)\n",
    "residuals_linear = y_test - y_pred_linear\n",
    "residuals_poly = y_test - y_pred_poly\n",
    "plt.scatter(y_pred_linear, residuals_linear, alpha=0.6, color='blue', label='linear')\n",
    "plt.scatter(y_pred_poly, residuals_poly, alpha=0.6, color='green', label='polynomial')\n",
    "plt.axhline(y=0, color='r', linestyle='--')\n",
    "plt.xlabel('predicted scores')\n",
    "plt.ylabel('residuals')\n",
    "plt.title('residual plot')\n",
    "plt.legend()\n",
    "\n",
    "plt.tight_layout()\n",
    "plt.show()\n"
   ]
  },
  {
   "cell_type": "code",
   "execution_count": null,
   "id": "b181f6fd",
   "metadata": {},
   "outputs": [],
   "source": [
    "# 12. feature importance analysis\n",
    "# analyzing which features contribute most to the prediction\n"
   ]
  },
  {
   "cell_type": "code",
   "execution_count": null,
   "id": "899154df",
   "metadata": {},
   "outputs": [],
   "source": [
    "feature_importance = pd.DataFrame({\n",
    "    'feature': features,\n",
    "    'coefficient': linear_model.coef_,\n",
    "    'abs_coefficient': np.abs(linear_model.coef_)\n",
    "}).sort_values('abs_coefficient', ascending=False)\n",
    "\n",
    "print(\"feature importance (linear regression coefficients):\")\n",
    "print(feature_importance)\n",
    "\n",
    "plt.figure(figsize=(10, 6))\n",
    "plt.barh(feature_importance['feature'], feature_importance['abs_coefficient'])\n",
    "plt.xlabel('absolute coefficient value')\n",
    "plt.title('feature importance')\n",
    "plt.gca().invert_yaxis()\n",
    "plt.tight_layout()\n",
    "plt.show()\n"
   ]
  },
  {
   "cell_type": "code",
   "execution_count": null,
   "id": "af87a52c",
   "metadata": {},
   "outputs": [],
   "source": [
    "# 13. save models for deployment\n",
    "# saving trained models and feature information for use in streamlit app\n"
   ]
  },
  {
   "cell_type": "code",
   "execution_count": null,
   "id": "f7348636",
   "metadata": {},
   "outputs": [],
   "source": [
    "joblib.dump(linear_model, 'linear_model.pkl')\n",
    "joblib.dump(poly_model, 'poly_model.pkl')\n",
    "joblib.dump(poly_features, 'poly_features.pkl')\n",
    "joblib.dump(features, 'feature_names.pkl')\n",
    "joblib.dump(encoders, 'encoders.pkl')\n",
    "\n",
    "model_info = {\n",
    "    'linear_r2': r2_linear,\n",
    "    'poly_r2': r2_poly,\n",
    "    'linear_mse': mse_linear,\n",
    "    'poly_mse': mse_poly\n",
    "}\n",
    "joblib.dump(model_info, 'model_info.pkl')\n",
    "\n",
    "print(\"models saved successfully:\")\n",
    "print(\"- linear_model.pkl\")\n",
    "print(\"- poly_model.pkl\") \n",
    "print(\"- poly_features.pkl\")\n",
    "print(\"- feature_names.pkl\")\n",
    "print(\"- encoders.pkl\")\n",
    "print(\"- model_info.pkl\")\n"
   ]
  }
 ],
 "metadata": {
  "kernelspec": {
   "display_name": "Python 3 (ipykernel)",
   "language": "python",
   "name": "python3"
  },
  "language_info": {
   "codemirror_mode": {
    "name": "ipython",
    "version": 3
   },
   "file_extension": ".py",
   "mimetype": "text/x-python",
   "name": "python",
   "nbconvert_exporter": "python",
   "pygments_lexer": "ipython3",
   "version": "3.13.5"
  }
 },
 "nbformat": 4,
 "nbformat_minor": 5
}
